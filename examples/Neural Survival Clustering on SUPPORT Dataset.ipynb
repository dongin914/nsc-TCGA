{
 "cells": [
  {
   "cell_type": "markdown",
   "metadata": {},
   "source": [
    "# Neural Survival Clustering on SUPPORT Dataset"
   ]
  },
  {
   "cell_type": "markdown",
   "metadata": {},
   "source": [
    "The SUPPORT dataset comes from the Vanderbilt University study\n",
    "to estimate survival for seriously ill hospitalized adults.\n",
    "(Refer to http://biostat.mc.vanderbilt.edu/wiki/Main/SupportDesc.\n",
    "for the original datasource.)\n",
    "\n",
    "In this notebook, we will apply Neural Survival Clustering on the SUPPORT data."
   ]
  },
  {
   "cell_type": "code",
   "execution_count": 1,
   "metadata": {},
   "outputs": [],
   "source": [
    "import sys\n",
    "sys.path.append('../')\n",
    "sys.path.append('../DeepSurvivalMachines/')"
   ]
  },
  {
   "cell_type": "markdown",
   "metadata": {},
   "source": [
    "### Load the SUPPORT Dataset\n",
    "\n",
    "The package includes helper functions to load the dataset.\n",
    "\n",
    "X represents an np.array of features (covariates),\n",
    "T is the event/censoring times and,\n",
    "E is the censoring indicator."
   ]
  },
  {
   "cell_type": "code",
   "execution_count": 2,
   "metadata": {},
   "outputs": [],
   "source": [
    "import numpy as np\n",
    "\n",
    "x = np.load('./ProcessedData/GeneCount_GroupNorm.npy',allow_pickle=True)\n",
    "t = np.load('./ProcessedData/TTE_GroupNorm.npy',allow_pickle=True)\n",
    "e = np.load('./ProcessedData/Event_GroupNorm.npy',allow_pickle=True)"
   ]
  },
  {
   "cell_type": "code",
   "execution_count": 3,
   "metadata": {
    "tags": []
   },
   "outputs": [
    {
     "name": "stdout",
     "output_type": "stream",
     "text": [
      "(2942, 17526)\n",
      "(2942,)\n",
      "(2942,)\n"
     ]
    }
   ],
   "source": [
    "print(x.shape)\n",
    "print(t.shape)\n",
    "print(e.shape)"
   ]
  },
  {
   "cell_type": "markdown",
   "metadata": {},
   "source": [
    "### Compute horizons at which we evaluate the performance of NSC\n",
    "\n",
    "Survival predictions are issued at certain time horizons. Here we will evaluate the performance\n",
    "of NSC to issue predictions at the 25th, 50th and 75th event time quantile as is standard practice in Survival Analysis."
   ]
  },
  {
   "cell_type": "code",
   "execution_count": 4,
   "metadata": {},
   "outputs": [],
   "source": [
    "import torch\n",
    "np.random.seed(42)\n",
    "torch.random.manual_seed(42)\n",
    "\n",
    "horizons = [0.5]\n",
    "times = np.quantile(t[e!=0], horizons).tolist()"
   ]
  },
  {
   "cell_type": "code",
   "execution_count": 5,
   "metadata": {},
   "outputs": [
    {
     "name": "stdout",
     "output_type": "stream",
     "text": [
      "At time 6.48\n",
      "\t 51.05 % observed risk 0\n",
      "\t 9.25 % observed risk 1\n"
     ]
    }
   ],
   "source": [
    "# Display the percentage of observed event at different time horizon\n",
    "for time in times:\n",
    "    print('At time {:.2f}'.format(time))\n",
    "    for risk in np.unique(e):\n",
    "        print('\\t {:.2f} % observed risk {}'.format(100 * ((e == risk) & (t < time)).mean(), risk))"
   ]
  },
  {
   "cell_type": "markdown",
   "metadata": {},
   "source": [
    "### Splitting the data into train, test and validation sets\n",
    "\n",
    "We will train NSC on 80% of the Data (10 % of which is used for stopping criterion and 10% for model Selection) and report performance on the remaining 20% held out test set."
   ]
  },
  {
   "cell_type": "code",
   "execution_count": 6,
   "metadata": {},
   "outputs": [],
   "source": [
    "from sklearn.model_selection import train_test_split\n",
    "from sklearn.preprocessing import MinMaxScaler\n",
    "\n",
    "x_train, x_test, t_train, t_test, e_train, e_test = train_test_split(x, t, e, test_size = 0.2, random_state = 42)\n",
    "x_train, x_val, t_train, t_val, e_train, e_val = train_test_split(x_train, t_train, e_train, test_size = 0.2, random_state = 42)\n",
    "x_dev, x_val, t_dev, t_val, e_dev, e_val = train_test_split(x_val, t_val, e_val, test_size = 0.5, random_state = 42)\n",
    "\n",
    "minmax = lambda x: x / t_train.max() # Enforce to be inferior to 1\n",
    "t_train_ddh = minmax(t_train)\n",
    "t_dev_ddh = minmax(t_dev)\n",
    "t_val_ddh = minmax(t_val)\n",
    "times_ddh = minmax(np.array(times))"
   ]
  },
  {
   "cell_type": "markdown",
   "metadata": {},
   "source": [
    "### Setting the parameter grid\n",
    "\n",
    "Lets set up the parameter grid to tune hyper-parameters. We will tune the number of underlying survival distributions, \n",
    "($K$), the latent representation, the learning rate for the Adam optimizer and the number of hidden layers and nodes."
   ]
  },
  {
   "cell_type": "code",
   "execution_count": 7,
   "metadata": {},
   "outputs": [],
   "source": [
    "from sklearn.model_selection import ParameterSampler"
   ]
  },
  {
   "cell_type": "code",
   "execution_count": 8,
   "metadata": {},
   "outputs": [],
   "source": [
    "layers = [[50], [50, 50], [50, 50, 50], [100], [100, 100], [100, 100, 100]]\n",
    "param_grid = {\n",
    "            'learning_rate' : [1e-3, 1e-4],\n",
    "            'layers_surv': layers,\n",
    "            'k': [2],\n",
    "            'representation': [50, 100],\n",
    "            'layers' : layers,\n",
    "            'act': ['Tanh'],\n",
    "            'batch': [100, 250],\n",
    "            }\n",
    "params = ParameterSampler(param_grid, 30, random_state = 42)"
   ]
  },
  {
   "cell_type": "markdown",
   "metadata": {},
   "source": [
    "### Model Training and Selection"
   ]
  },
  {
   "cell_type": "code",
   "execution_count": 9,
   "metadata": {},
   "outputs": [
    {
     "ename": "ModuleNotFoundError",
     "evalue": "No module named 'sksurv'",
     "output_type": "error",
     "traceback": [
      "\u001b[0;31m---------------------------------------------------------------------------\u001b[0m",
      "\u001b[0;31mModuleNotFoundError\u001b[0m                       Traceback (most recent call last)",
      "Cell \u001b[0;32mIn[9], line 1\u001b[0m\n\u001b[0;32m----> 1\u001b[0m \u001b[38;5;28;01mfrom\u001b[39;00m \u001b[38;5;21;01mnsc\u001b[39;00m \u001b[38;5;28;01mimport\u001b[39;00m NeuralSurvivalCluster\n\u001b[1;32m      2\u001b[0m \u001b[38;5;28;01mimport\u001b[39;00m \u001b[38;5;21;01mgc\u001b[39;00m\n",
      "File \u001b[0;32m~/Library/CloudStorage/Dropbox/Project/NeuralSurvivalClustering/NSCCopy/examples/../nsc/__init__.py:1\u001b[0m\n\u001b[0;32m----> 1\u001b[0m \u001b[38;5;28;01mfrom\u001b[39;00m \u001b[38;5;21;01mnsc\u001b[39;00m\u001b[38;5;21;01m.\u001b[39;00m\u001b[38;5;21;01mnsc_api\u001b[39;00m \u001b[38;5;28;01mimport\u001b[39;00m NeuralSurvivalCluster\n",
      "File \u001b[0;32m~/Library/CloudStorage/Dropbox/Project/NeuralSurvivalClustering/NSCCopy/examples/../nsc/nsc_api.py:1\u001b[0m\n\u001b[0;32m----> 1\u001b[0m \u001b[38;5;28;01mfrom\u001b[39;00m \u001b[38;5;21;01mdsm\u001b[39;00m\u001b[38;5;21;01m.\u001b[39;00m\u001b[38;5;21;01mdsm_api\u001b[39;00m \u001b[38;5;28;01mimport\u001b[39;00m DSMBase\n\u001b[1;32m      2\u001b[0m \u001b[38;5;28;01mfrom\u001b[39;00m \u001b[38;5;21;01mnsc\u001b[39;00m\u001b[38;5;21;01m.\u001b[39;00m\u001b[38;5;21;01mnsc_torch\u001b[39;00m \u001b[38;5;28;01mimport\u001b[39;00m NeuralSurvivalClusterTorch\n\u001b[1;32m      3\u001b[0m \u001b[38;5;28;01mimport\u001b[39;00m \u001b[38;5;21;01mnsc\u001b[39;00m\u001b[38;5;21;01m.\u001b[39;00m\u001b[38;5;21;01mlosses\u001b[39;00m \u001b[38;5;28;01mas\u001b[39;00m \u001b[38;5;21;01mlosses\u001b[39;00m\n",
      "File \u001b[0;32m~/Library/CloudStorage/Dropbox/Project/NeuralSurvivalClustering/NSCCopy/examples/../DeepSurvivalMachines/dsm/__init__.py:228\u001b[0m\n\u001b[1;32m    226\u001b[0m \u001b[38;5;28;01mfrom\u001b[39;00m \u001b[38;5;21;01mdsm\u001b[39;00m\u001b[38;5;21;01m.\u001b[39;00m\u001b[38;5;21;01mdsm_api\u001b[39;00m \u001b[38;5;28;01mimport\u001b[39;00m DeepRecurrentSurvivalMachines\n\u001b[1;32m    227\u001b[0m \u001b[38;5;28;01mfrom\u001b[39;00m \u001b[38;5;21;01mdsm\u001b[39;00m\u001b[38;5;21;01m.\u001b[39;00m\u001b[38;5;21;01mdsm_api\u001b[39;00m \u001b[38;5;28;01mimport\u001b[39;00m DeepCNNRNNSurvivalMachines\n\u001b[0;32m--> 228\u001b[0m \u001b[38;5;28;01mfrom\u001b[39;00m \u001b[38;5;21;01mdsm\u001b[39;00m\u001b[38;5;21;01m.\u001b[39;00m\u001b[38;5;21;01mcontrib\u001b[39;00m\u001b[38;5;21;01m.\u001b[39;00m\u001b[38;5;21;01mdcm_api\u001b[39;00m \u001b[38;5;28;01mimport\u001b[39;00m DeepCoxMixtures\n",
      "File \u001b[0;32m~/Library/CloudStorage/Dropbox/Project/NeuralSurvivalClustering/NSCCopy/examples/../DeepSurvivalMachines/dsm/contrib/__init__.py:61\u001b[0m\n\u001b[1;32m      1\u001b[0m \u001b[38;5;66;03m# coding=utf-8\u001b[39;00m\n\u001b[1;32m      2\u001b[0m \u001b[38;5;66;03m# MIT License\u001b[39;00m\n\u001b[1;32m      3\u001b[0m \n\u001b[0;32m   (...)\u001b[0m\n\u001b[1;32m     21\u001b[0m \u001b[38;5;66;03m# OUT OF OR IN CONNECTION WITH THE SOFTWARE OR THE USE OR OTHER DEALINGS IN THE\u001b[39;00m\n\u001b[1;32m     22\u001b[0m \u001b[38;5;66;03m# SOFTWARE.\u001b[39;00m\n\u001b[1;32m     25\u001b[0m \u001b[38;5;124mr\u001b[39m\u001b[38;5;124;03m\"\"\"\u001b[39;00m\n\u001b[1;32m     26\u001b[0m \u001b[38;5;124;03m`dsm` includes extended functionality for survival analysis as part\u001b[39;00m\n\u001b[1;32m     27\u001b[0m \u001b[38;5;124;03mof `dsm.contrib`.\u001b[39;00m\n\u001b[0;32m   (...)\u001b[0m\n\u001b[1;32m     58\u001b[0m \n\u001b[1;32m     59\u001b[0m \u001b[38;5;124;03m\"\"\"\u001b[39;00m\n\u001b[0;32m---> 61\u001b[0m \u001b[38;5;28;01mfrom\u001b[39;00m \u001b[38;5;21;01mdsm\u001b[39;00m\u001b[38;5;21;01m.\u001b[39;00m\u001b[38;5;21;01mcontrib\u001b[39;00m\u001b[38;5;21;01m.\u001b[39;00m\u001b[38;5;21;01mdcm_api\u001b[39;00m \u001b[38;5;28;01mimport\u001b[39;00m DeepCoxMixtures\n",
      "File \u001b[0;32m~/Library/CloudStorage/Dropbox/Project/NeuralSurvivalClustering/NSCCopy/examples/../DeepSurvivalMachines/dsm/contrib/dcm_api.py:5\u001b[0m\n\u001b[1;32m      2\u001b[0m \u001b[38;5;28;01mimport\u001b[39;00m \u001b[38;5;21;01mtorch\u001b[39;00m\n\u001b[1;32m      3\u001b[0m \u001b[38;5;28;01mimport\u001b[39;00m \u001b[38;5;21;01mnumpy\u001b[39;00m \u001b[38;5;28;01mas\u001b[39;00m \u001b[38;5;21;01mnp\u001b[39;00m\n\u001b[0;32m----> 5\u001b[0m \u001b[38;5;28;01mfrom\u001b[39;00m \u001b[38;5;21;01mdsm\u001b[39;00m\u001b[38;5;21;01m.\u001b[39;00m\u001b[38;5;21;01mcontrib\u001b[39;00m\u001b[38;5;21;01m.\u001b[39;00m\u001b[38;5;21;01mdcm_torch\u001b[39;00m \u001b[38;5;28;01mimport\u001b[39;00m DeepCoxMixturesTorch\n\u001b[1;32m      6\u001b[0m \u001b[38;5;28;01mfrom\u001b[39;00m \u001b[38;5;21;01mdsm\u001b[39;00m\u001b[38;5;21;01m.\u001b[39;00m\u001b[38;5;21;01mcontrib\u001b[39;00m\u001b[38;5;21;01m.\u001b[39;00m\u001b[38;5;21;01mdcm_utilities\u001b[39;00m \u001b[38;5;28;01mimport\u001b[39;00m \u001b[38;5;241m*\u001b[39m\n\u001b[1;32m      9\u001b[0m \u001b[38;5;28;01mclass\u001b[39;00m \u001b[38;5;21;01mDeepCoxMixtures\u001b[39;00m():\n",
      "File \u001b[0;32m~/Library/CloudStorage/Dropbox/Project/NeuralSurvivalClustering/NSCCopy/examples/../DeepSurvivalMachines/dsm/contrib/dcm_torch.py:7\u001b[0m\n\u001b[1;32m      4\u001b[0m \u001b[38;5;28;01mimport\u001b[39;00m \u001b[38;5;21;01mnumpy\u001b[39;00m \u001b[38;5;28;01mas\u001b[39;00m \u001b[38;5;21;01mnp\u001b[39;00m\n\u001b[1;32m      6\u001b[0m \u001b[38;5;28;01mfrom\u001b[39;00m \u001b[38;5;21;01mscipy\u001b[39;00m\u001b[38;5;21;01m.\u001b[39;00m\u001b[38;5;21;01minterpolate\u001b[39;00m \u001b[38;5;28;01mimport\u001b[39;00m UnivariateSpline\n\u001b[0;32m----> 7\u001b[0m \u001b[38;5;28;01mfrom\u001b[39;00m \u001b[38;5;21;01msksurv\u001b[39;00m\u001b[38;5;21;01m.\u001b[39;00m\u001b[38;5;21;01mlinear_model\u001b[39;00m\u001b[38;5;21;01m.\u001b[39;00m\u001b[38;5;21;01mcoxph\u001b[39;00m \u001b[38;5;28;01mimport\u001b[39;00m BreslowEstimator   \n\u001b[1;32m      9\u001b[0m \u001b[38;5;28;01mimport\u001b[39;00m \u001b[38;5;21;01mtime\u001b[39;00m\n\u001b[1;32m     10\u001b[0m \u001b[38;5;28;01mfrom\u001b[39;00m \u001b[38;5;21;01mtqdm\u001b[39;00m \u001b[38;5;28;01mimport\u001b[39;00m tqdm \n",
      "\u001b[0;31mModuleNotFoundError\u001b[0m: No module named 'sksurv'"
     ]
    }
   ],
   "source": [
    "from nsc import NeuralSurvivalCluster\n",
    "import gc"
   ]
  },
  {
   "cell_type": "code",
   "execution_count": 10,
   "metadata": {},
   "outputs": [],
   "source": [
    "gc.collect()\n",
    "torch.cuda.empty_cache()"
   ]
  },
  {
   "cell_type": "code",
   "execution_count": 11,
   "metadata": {
    "scrolled": true
   },
   "outputs": [
    {
     "name": "stderr",
     "output_type": "stream",
     "text": [
      "Loss: 0.092: 100%|█████████████████████████████████████████████████████████████████████| 10/10 [00:03<00:00,  3.01it/s]\n",
      "Loss: 0.324: 100%|█████████████████████████████████████████████████████████████████████| 10/10 [00:01<00:00,  9.95it/s]\n",
      "Loss: 0.110: 100%|█████████████████████████████████████████████████████████████████████| 10/10 [00:01<00:00,  5.82it/s]\n",
      "Loss: 0.099: 100%|█████████████████████████████████████████████████████████████████████| 10/10 [00:02<00:00,  4.36it/s]\n",
      "Loss: 0.332: 100%|█████████████████████████████████████████████████████████████████████| 10/10 [00:01<00:00,  9.18it/s]\n",
      "Loss: 0.449: 100%|█████████████████████████████████████████████████████████████████████| 10/10 [00:02<00:00,  3.98it/s]\n",
      "Loss: 0.457: 100%|█████████████████████████████████████████████████████████████████████| 10/10 [00:02<00:00,  3.54it/s]\n",
      "Loss: 0.302: 100%|█████████████████████████████████████████████████████████████████████| 10/10 [00:01<00:00,  8.46it/s]\n",
      "Loss: 0.433: 100%|█████████████████████████████████████████████████████████████████████| 10/10 [00:02<00:00,  3.66it/s]\n",
      "Loss: 0.458: 100%|█████████████████████████████████████████████████████████████████████| 10/10 [00:01<00:00,  9.42it/s]\n",
      "Loss: 0.535: 100%|█████████████████████████████████████████████████████████████████████| 10/10 [00:01<00:00,  6.00it/s]\n",
      "Loss: 0.412: 100%|█████████████████████████████████████████████████████████████████████| 10/10 [00:02<00:00,  3.99it/s]\n",
      "Loss: 0.461: 100%|█████████████████████████████████████████████████████████████████████| 10/10 [00:03<00:00,  2.89it/s]\n",
      "Loss: 0.407: 100%|█████████████████████████████████████████████████████████████████████| 10/10 [00:01<00:00,  6.28it/s]\n",
      "Loss: 0.093: 100%|█████████████████████████████████████████████████████████████████████| 10/10 [00:02<00:00,  4.00it/s]\n",
      "Loss: 0.323: 100%|█████████████████████████████████████████████████████████████████████| 10/10 [00:01<00:00,  6.85it/s]\n",
      "Loss: 0.128: 100%|█████████████████████████████████████████████████████████████████████| 10/10 [00:02<00:00,  4.81it/s]\n",
      "Loss: 0.070: 100%|█████████████████████████████████████████████████████████████████████| 10/10 [00:01<00:00,  5.61it/s]\n",
      "Loss: 0.688: 100%|█████████████████████████████████████████████████████████████████████| 10/10 [00:01<00:00,  5.15it/s]\n",
      "Loss: 0.418: 100%|█████████████████████████████████████████████████████████████████████| 10/10 [00:02<00:00,  4.27it/s]\n",
      "Loss: 0.425: 100%|█████████████████████████████████████████████████████████████████████| 10/10 [00:01<00:00,  6.35it/s]\n",
      "Loss: 0.246: 100%|█████████████████████████████████████████████████████████████████████| 10/10 [00:02<00:00,  4.30it/s]\n",
      "Loss: 0.134: 100%|█████████████████████████████████████████████████████████████████████| 10/10 [00:03<00:00,  3.31it/s]\n",
      "Loss: 1.427: 100%|█████████████████████████████████████████████████████████████████████| 10/10 [00:01<00:00,  5.01it/s]\n",
      "Loss: 0.308: 100%|█████████████████████████████████████████████████████████████████████| 10/10 [00:02<00:00,  4.28it/s]\n",
      "Loss: 2.757: 100%|█████████████████████████████████████████████████████████████████████| 10/10 [00:01<00:00,  5.49it/s]\n",
      "Loss: 0.490: 100%|█████████████████████████████████████████████████████████████████████| 10/10 [00:03<00:00,  2.80it/s]\n",
      "Loss: 0.451: 100%|█████████████████████████████████████████████████████████████████████| 10/10 [00:00<00:00, 10.14it/s]\n",
      "Loss: 0.391: 100%|█████████████████████████████████████████████████████████████████████| 10/10 [00:02<00:00,  3.97it/s]\n",
      "Loss: 0.231: 100%|█████████████████████████████████████████████████████████████████████| 10/10 [00:01<00:00,  5.49it/s]\n"
     ]
    }
   ],
   "source": [
    "models = []\n",
    "for param in params:\n",
    "    model = NeuralSurvivalCluster(layers = param['layers'], act = param['act'], k = param['k'],\n",
    "                                layers_surv = param['layers_surv'], representation = param['representation'])\n",
    "    # The fit method is called to train the model\n",
    "    model.fit(x_train, t_train_ddh, e_train, n_iter = 10, bs = param['batch'],\n",
    "            lr = param['learning_rate'], val_data = (x_dev, t_dev_ddh, e_dev))\n",
    "    nll = model.compute_nll(x_val, t_val_ddh, e_val)\n",
    "    if not(np.isnan(nll)):\n",
    "        models.append([nll, model])\n",
    "    else:\n",
    "        print(\"WARNING: Nan Value Observed\")"
   ]
  },
  {
   "cell_type": "code",
   "execution_count": 12,
   "metadata": {},
   "outputs": [],
   "source": [
    "best_model = min(models, key = lambda x: x[0])\n",
    "model = best_model[1]"
   ]
  },
  {
   "cell_type": "markdown",
   "metadata": {},
   "source": [
    "### Inference\n",
    "\n",
    "Model prediction for the different patients and analysis of the results"
   ]
  },
  {
   "cell_type": "code",
   "execution_count": 13,
   "metadata": {},
   "outputs": [],
   "source": [
    "out_risk = model.predict_risk(x_test, times_ddh.tolist())\n",
    "out_survival= model.predict_survival(x_test, times_ddh.tolist())"
   ]
  },
  {
   "cell_type": "markdown",
   "metadata": {},
   "source": [
    "### Evaluation\n",
    "\n",
    "We evaluate the performance of NSC in its discriminative ability (Time Dependent Concordance Index and Cumulative Dynamic AUC) as well as Brier Score."
   ]
  },
  {
   "cell_type": "code",
   "execution_count": 14,
   "metadata": {},
   "outputs": [],
   "source": [
    "from sksurv.metrics import concordance_index_ipcw, brier_score, cumulative_dynamic_auc"
   ]
  },
  {
   "cell_type": "code",
   "execution_count": 15,
   "metadata": {},
   "outputs": [
    {
     "name": "stdout",
     "output_type": "stream",
     "text": [
      "For 0.5 quantile,\n",
      "TD Concordance Index: 0.654191097535876\n",
      "Brier Score: 0.11458337928232022\n",
      "ROC AUC  0.6497538782163774 \n",
      "\n"
     ]
    }
   ],
   "source": [
    "et_train = np.array([(e_train[i] == 1, t_train[i]) for i in range(len(e_train))],\n",
    "                 dtype = [('e', bool), ('t', float)])\n",
    "et_test = np.array([(e_test[i] == 1, t_test[i]) for i in range(len(e_test))],\n",
    "                 dtype = [('e', bool), ('t', float)])\n",
    "selection = (t_test < t_train.max()) | (e_test == 0)\n",
    "\n",
    "cis = []\n",
    "for i, _ in enumerate(times):\n",
    "    cis.append(concordance_index_ipcw(et_train, et_test[selection], out_risk[:, i][selection], times[i])[0])\n",
    "brs = brier_score(et_train, et_test[selection], out_survival[selection], times)[1]\n",
    "roc_auc = []\n",
    "for i, _ in enumerate(times):\n",
    "    roc_auc.append(cumulative_dynamic_auc(et_train, et_test[selection], out_risk[:, i][selection], times[i])[0])\n",
    "for horizon in enumerate(horizons):\n",
    "    print(f\"For {horizon[1]} quantile,\")\n",
    "    print(\"TD Concordance Index:\", cis[horizon[0]])\n",
    "    print(\"Brier Score:\", brs[horizon[0]])\n",
    "    print(\"ROC AUC \", roc_auc[horizon[0]][0], \"\\n\")"
   ]
  },
  {
   "cell_type": "markdown",
   "metadata": {},
   "source": [
    "## Cluster analysis\n",
    "\n",
    "In this section, we display the learnt clusters and the impact of the different features on the membership to each cluster. This importance is obtained through permutation of the feature."
   ]
  },
  {
   "cell_type": "code",
   "execution_count": 16,
   "metadata": {},
   "outputs": [],
   "source": [
    "import pandas as pd\n",
    "import matplotlib.pyplot as plt"
   ]
  },
  {
   "cell_type": "code",
   "execution_count": 17,
   "metadata": {},
   "outputs": [],
   "source": [
    "times_cluster = np.quantile(t, np.linspace(0, 1, 100))\n",
    "clusters = model.survival_cluster(minmax(times_cluster).tolist(), 1)"
   ]
  },
  {
   "cell_type": "code",
   "execution_count": 18,
   "metadata": {
    "tags": []
   },
   "outputs": [
    {
     "data": {
      "text/plain": [
       "array([[1.        , 1.        ],\n",
       "       [0.99888382, 0.99872954],\n",
       "       [0.99791155, 0.99772506],\n",
       "       [0.99700146, 0.9968367 ],\n",
       "       [0.99570297, 0.99562995],\n",
       "       [0.99445573, 0.99452085],\n",
       "       [0.99324363, 0.99347922],\n",
       "       [0.99166734, 0.99216724],\n",
       "       [0.99050828, 0.991228  ],\n",
       "       [0.98823598, 0.98943781],\n",
       "       [0.98786226, 0.98914904],\n",
       "       [0.9874898 , 0.98886268],\n",
       "       [0.98620236, 0.98788325],\n",
       "       [0.98274401, 0.98532179],\n",
       "       [0.97918926, 0.9827752 ],\n",
       "       [0.97569875, 0.98034265],\n",
       "       [0.97181493, 0.97770088],\n",
       "       [0.96852902, 0.97551073],\n",
       "       [0.96452775, 0.97289111],\n",
       "       [0.96155718, 0.97097562],\n",
       "       [0.95894037, 0.96930666],\n",
       "       [0.95634463, 0.96766666],\n",
       "       [0.95441106, 0.96645429],\n",
       "       [0.95057646, 0.96407143],\n",
       "       [0.94835883, 0.96270539],\n",
       "       [0.94562913, 0.96103501],\n",
       "       [0.94341391, 0.95968787],\n",
       "       [0.94116649, 0.95832836],\n",
       "       [0.93783735, 0.95632696],\n",
       "       [0.93624363, 0.9553738 ],\n",
       "       [0.93319868, 0.953561  ],\n",
       "       [0.93077981, 0.95212827],\n",
       "       [0.92837576, 0.95071035],\n",
       "       [0.92628417, 0.94948135],\n",
       "       [0.9241916 , 0.94825585],\n",
       "       [0.92103012, 0.94641165],\n",
       "       [0.91890254, 0.94517523],\n",
       "       [0.91507012, 0.9429569 ],\n",
       "       [0.9116535 , 0.94098814],\n",
       "       [0.90777055, 0.93876001],\n",
       "       [0.90408943, 0.93665613],\n",
       "       [0.89920213, 0.9338744 ],\n",
       "       [0.89642063, 0.9322966 ],\n",
       "       [0.89338548, 0.930579  ],\n",
       "       [0.88925202, 0.92824616],\n",
       "       [0.88494977, 0.92582512],\n",
       "       [0.88306852, 0.92476853],\n",
       "       [0.87767861, 0.92174764],\n",
       "       [0.87406645, 0.91972786],\n",
       "       [0.86935474, 0.91709827],\n",
       "       [0.86496834, 0.91465471],\n",
       "       [0.861121  , 0.91251455],\n",
       "       [0.85670172, 0.9100593 ],\n",
       "       [0.85233167, 0.90763413],\n",
       "       [0.84733938, 0.90486635],\n",
       "       [0.84082548, 0.90125822],\n",
       "       [0.8372825 , 0.89929681],\n",
       "       [0.83170748, 0.89621136],\n",
       "       [0.82700133, 0.89360713],\n",
       "       [0.81811643, 0.88868969],\n",
       "       [0.81118726, 0.88485237],\n",
       "       [0.80359063, 0.88064143],\n",
       "       [0.79576251, 0.87629618],\n",
       "       [0.79059189, 0.8734219 ],\n",
       "       [0.78437073, 0.86995852],\n",
       "       [0.77639462, 0.86550876],\n",
       "       [0.77046556, 0.86219334],\n",
       "       [0.76414768, 0.85865251],\n",
       "       [0.7553808 , 0.85372415],\n",
       "       [0.74988439, 0.85062465],\n",
       "       [0.74156981, 0.84592062],\n",
       "       [0.73085181, 0.83982739],\n",
       "       [0.72040923, 0.83385599],\n",
       "       [0.71555198, 0.83106595],\n",
       "       [0.7088762 , 0.82721766],\n",
       "       [0.69965826, 0.82187665],\n",
       "       [0.69208901, 0.81746602],\n",
       "       [0.68388827, 0.81266076],\n",
       "       [0.67788098, 0.80912241],\n",
       "       [0.66899461, 0.80385855],\n",
       "       [0.66172058, 0.79952232],\n",
       "       [0.65681075, 0.79658097],\n",
       "       [0.65080057, 0.79296406],\n",
       "       [0.64237669, 0.78786327],\n",
       "       [0.63509463, 0.7834234 ],\n",
       "       [0.62498702, 0.77721205],\n",
       "       [0.61445664, 0.77067808],\n",
       "       [0.60700002, 0.76601096],\n",
       "       [0.5995753 , 0.7613293 ],\n",
       "       [0.58848918, 0.7542725 ],\n",
       "       [0.57223087, 0.74377241],\n",
       "       [0.56209893, 0.73713342],\n",
       "       [0.55178753, 0.73029783],\n",
       "       [0.53713575, 0.72044141],\n",
       "       [0.52324162, 0.710931  ],\n",
       "       [0.50795553, 0.70027309],\n",
       "       [0.49055491, 0.68787736],\n",
       "       [0.45972549, 0.6651679 ],\n",
       "       [0.42465653, 0.63804179],\n",
       "       [0.30344947, 0.53055004]])"
      ]
     },
     "execution_count": 18,
     "metadata": {},
     "output_type": "execute_result"
    }
   ],
   "source": [
    "clusters"
   ]
  },
  {
   "cell_type": "code",
   "execution_count": 19,
   "metadata": {},
   "outputs": [
    {
     "data": {
      "text/plain": [
       "Text(0, 0.5, 'Survival Probability')"
      ]
     },
     "execution_count": 19,
     "metadata": {},
     "output_type": "execute_result"
    },
    {
     "data": {
      "image/png": "[encoded data removed]",
      "text/plain": [
       "<Figure size 640x480 with 1 Axes>"
      ]
     },
     "metadata": {},
     "output_type": "display_data"
    }
   ],
   "source": [
    "pd.DataFrame(clusters, index = times_cluster).plot()\n",
    "plt.grid(alpha = 0.3)\n",
    "plt.ylim(0, 1)\n",
    "plt.legend(title = 'Clusters')\n",
    "plt.xlabel('Time')\n",
    "plt.ylabel('Survival Probability')"
   ]
  },
  {
   "cell_type": "code",
   "execution_count": 20,
   "metadata": {
    "tags": []
   },
   "outputs": [
    {
     "data": {
      "text/plain": [
       "(100,)"
      ]
     },
     "execution_count": 20,
     "metadata": {},
     "output_type": "execute_result"
    }
   ],
   "source": [
    "times_cluster.shape"
   ]
  },
  {
   "cell_type": "code",
   "execution_count": 21,
   "metadata": {},
   "outputs": [],
   "source": [
    "#importance, confidence = model.feature_importance(x_train, t_train_ddh, e_train)"
   ]
  },
  {
   "cell_type": "code",
   "execution_count": 22,
   "metadata": {},
   "outputs": [
    {
     "data": {
      "text/plain": [
       "\"(pd.DataFrame({'Value': 100 * np.array(list(importance.values())), 'Conf': confidence.values()}, index = columns)).sort_values('Value').plot.bar(yerr = 'Conf')\\nplt.ylabel('% change in NLL')\\nplt.xlabel('Covariates')\\nplt.grid(alpha = 0.3)\""
      ]
     },
     "execution_count": 22,
     "metadata": {},
     "output_type": "execute_result"
    }
   ],
   "source": [
    "'''(pd.DataFrame({'Value': 100 * np.array(list(importance.values())), 'Conf': confidence.values()}, index = columns)).sort_values('Value').plot.bar(yerr = 'Conf')\n",
    "plt.ylabel('% change in NLL')\n",
    "plt.xlabel('Covariates')\n",
    "plt.grid(alpha = 0.3)'''"
   ]
  },
  {
   "cell_type": "code",
   "execution_count": null,
   "metadata": {},
   "outputs": [],
   "source": []
  }
 ],
 "metadata": {
  "kernelspec": {
   "display_name": "Python 3 (ipykernel)",
   "language": "python",
   "name": "python3"
  },
  "language_info": {
   "codemirror_mode": {
    "name": "ipython",
    "version": 3
   },
   "file_extension": ".py",
   "mimetype": "text/x-python",
   "name": "python",
   "nbconvert_exporter": "python",
   "pygments_lexer": "ipython3",
   "version": "3.8.16"
  },
  "vscode": {
   "interpreter": {
    "hash": "f1b50223f39b64c0c24545f474e3e7d2d3b4b121fe045100fc03a3926bb649af"
   }
  }
 },
 "nbformat": 4,
 "nbformat_minor": 4
}
